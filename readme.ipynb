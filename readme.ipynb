{
 "cells": [
  {
   "cell_type": "markdown",
   "id": "37339ede",
   "metadata": {},
   "source": [
    "# Introduction\n",
    "This project shows the creation of a AI chatbot with the following characteristics:\n",
    "1. It reads PDFs to gather information for the AI. This can be extended to look for other file formats (think of company sharepoint)\n",
    "2. It converts the texts in the document into chunks.\n",
    "3. The chunks are embedded with a model. This project uses all-MiniLM-L6-v2 for the semantic search and sentence similarity.\n",
    "4. The embeddings are stored in a vector database. This project stores onto Pinecone cloud vector database, but others can be used, such as Chroma, QDrant, etc, or locally with FAISS\n",
    "5. Prompts are created to direct the model.\n",
    "6. Prompts and embeddings are passed to an AI model for further processing. This project uses OpenAI ChatGTP, but other can be used, such as Google Gemini, Meta Llama, or locally with GGUF (ex: Llama-3.2-3B-Instruct-Q2_K.gguf for low resources)\n",
    "7. AI models returns a response.\n",
    "8. Flask is used to create backend rest APIs.\n",
    "9. A chatbot is created with nodejs, vite, and react.\n",
    "10. The chabot receives the user message and invokes Flash rest APIs."
   ]
  },
  {
   "cell_type": "markdown",
   "id": "62c24127-58b8-449e-8687-52bf536747b2",
   "metadata": {},
   "source": [
    "# Setup\n",
    "1. GitHub:\n",
    "Create a github repository: gen-ai-medical-bot\n",
    "Add .gitignore = Python\n",
    "Select MIT license\n",
    "2. From terminal, run command: git clone https://github.com/lucho715/gen-ai-medical-chat-bot.git\n",
    "3. Conda (Optional/Recommended): Set up conda environment: ```conda create -n gen-ai-medical-chat-bot python=3.10 -y```. Activate: ```conda activate gen-ai-medical-chat-bot```\n",
    "4. Create folder structure. From terminal, run ```python template.py```\n",
    "5. Complete setup.py\n",
    "6. Complete requirements.txt. From terminal, run ```pip install -r requirements.txt```\n",
    "7. Create folder 'data'. Download PDF Gale Encyclopedia of Medicine Vol. 1 (A-B) or the complete version The-Gale-Encyclopedia-of-Medicine-3rd-Edition-staibabussalamsula.ac_.id_.pdf"
   ]
  },
  {
   "cell_type": "code",
   "execution_count": null,
   "id": "1f7510b6-2f22-46e6-9089-db6e0fa24181",
   "metadata": {
    "scrolled": true
   },
   "outputs": [],
   "source": [
    "!pip install -r requirements.txt"
   ]
  },
  {
   "cell_type": "markdown",
   "id": "002e5dd8",
   "metadata": {},
   "source": [
    "# Read documents "
   ]
  },
  {
   "cell_type": "code",
   "execution_count": 6,
   "id": "2a5e07c9",
   "metadata": {},
   "outputs": [],
   "source": [
    "from langchain_community.document_loaders import DirectoryLoader\n",
    "from langchain_community.document_loaders import PyPDFLoader"
   ]
  },
  {
   "cell_type": "code",
   "execution_count": null,
   "id": "25531122",
   "metadata": {},
   "outputs": [],
   "source": [
    "# Function to load PDF (takes 3min with my cpu)\n",
    "def load_pdf_file(data):\n",
    "    loader = DirectoryLoader(data, glob=\"*.pdf\", loader_cls=PyPDFLoader)\n",
    "    documents = loader.load()\n",
    "    return documents\n",
    "\n",
    "extracted_data = load_pdf_file(\"data\")"
   ]
  },
  {
   "cell_type": "markdown",
   "id": "20479a1a",
   "metadata": {},
   "source": [
    "# Split documents into chunks"
   ]
  },
  {
   "cell_type": "code",
   "execution_count": 8,
   "id": "d6eb144b",
   "metadata": {},
   "outputs": [],
   "source": [
    "from langchain_text_splitters import RecursiveCharacterTextSplitter"
   ]
  },
  {
   "cell_type": "code",
   "execution_count": 9,
   "id": "8e91de58",
   "metadata": {},
   "outputs": [],
   "source": [
    "def text_split(extracted_data):\n",
    "    text_splitter=RecursiveCharacterTextSplitter(chunk_size=500, chunk_overlap=20)\n",
    "    text_chunks=text_splitter.split_documents(extracted_data)\n",
    "    return text_chunks\n",
    "\n",
    "text_chunks=text_split(extracted_data)"
   ]
  },
  {
   "cell_type": "markdown",
   "id": "70679f42",
   "metadata": {},
   "source": [
    "# Download embeddings"
   ]
  },
  {
   "cell_type": "code",
   "execution_count": 21,
   "id": "2e8394aa",
   "metadata": {},
   "outputs": [],
   "source": [
    "from langchain_huggingface import HuggingFaceEmbeddings"
   ]
  },
  {
   "cell_type": "code",
   "execution_count": 22,
   "id": "bed716fc",
   "metadata": {},
   "outputs": [],
   "source": [
    "# https://huggingface.co/sentence-transformers/all-MiniLM-L6-v2\n",
    "# 384 dimension\n",
    "# Free. Using OpenAI Embeddings incur costs\n",
    "\n",
    "embeddings = HuggingFaceEmbeddings(\n",
    "    model_name=\"sentence-transformers/all-MiniLM-L6-v2\",\n",
    "    model_kwargs={\"device\": \"cpu\"} # or \"cuda\" if you have a GPU\n",
    ")"
   ]
  },
  {
   "cell_type": "code",
   "execution_count": 23,
   "id": "a4e1bb0c",
   "metadata": {},
   "outputs": [
    {
     "name": "stdout",
     "output_type": "stream",
     "text": [
      "length 384\n"
     ]
    }
   ],
   "source": [
    "# Test embedding\n",
    "query_result = embeddings.embed_query(\"Hello\")\n",
    "print(\"length\", len(query_result))"
   ]
  },
  {
   "cell_type": "markdown",
   "id": "a6d78fd1",
   "metadata": {},
   "source": [
    "# Pinecone cloud vector database\n",
    "1. Create free account\n",
    "2. Copy API Key to .env PINECONE_API_KEY\n",
    "\n",
    "Index can be created in Pinecone, or programatically in python\n",
    "Create index. Choose Custom. Vector Type=Dense. Dimension=384. Metric=Cosine."
   ]
  },
  {
   "cell_type": "code",
   "execution_count": null,
   "id": "56d94316",
   "metadata": {},
   "outputs": [],
   "source": [
    "from pinecone import Pinecone as pc\n",
    "from dotenv import load_dotenv\n",
    "import os"
   ]
  },
  {
   "cell_type": "code",
   "execution_count": null,
   "id": "3c60a780",
   "metadata": {},
   "outputs": [],
   "source": [
    "load_dotenv()\n",
    "pc = pc(api_key=os.getenv(\"PINECONE_API_KEY\"))\n",
    "index = pc.Index(\"lucho715\")"
   ]
  },
  {
   "cell_type": "code",
   "execution_count": 16,
   "id": "d7fbafde",
   "metadata": {},
   "outputs": [
    {
     "name": "stdout",
     "output_type": "stream",
     "text": [
      "{'dimension': 384,\n",
      " 'index_fullness': 0.0,\n",
      " 'namespaces': {'': {'vector_count': 40000}},\n",
      " 'total_vector_count': 40000}\n"
     ]
    }
   ],
   "source": [
    "print(index.describe_index_stats())"
   ]
  },
  {
   "cell_type": "markdown",
   "id": "780ee4ea",
   "metadata": {},
   "source": [
    "# Embed chunks and store in Pinecone"
   ]
  },
  {
   "cell_type": "code",
   "execution_count": 18,
   "id": "52fe8759",
   "metadata": {},
   "outputs": [],
   "source": [
    "from langchain_pinecone import Pinecone\n",
    "\n",
    "# Pass index_name which is not the same as index. This is not as in documentation (took 6min)\n",
    "# Uncomment to store new information\n",
    "#vector_store = Pinecone.from_documents(documents=text_chunks, index_name=\"lucho715\", embedding=embeddings)"
   ]
  },
  {
   "cell_type": "markdown",
   "id": "5f86a53c",
   "metadata": {},
   "source": [
    "# Load Pinecone index"
   ]
  },
  {
   "cell_type": "code",
   "execution_count": null,
   "id": "a634efd0",
   "metadata": {},
   "outputs": [],
   "source": [
    "# Becarefule this Pinecone is from langchain because langchain renamed PineconeVectorStore to Pinecone\n",
    "from langchain_pinecone import Pinecone\n",
    "\n",
    "docsearch = Pinecone.from_existing_index(index_name=\"lucho715\", embedding=embeddings)"
   ]
  },
  {
   "cell_type": "markdown",
   "id": "bd8af287",
   "metadata": {},
   "source": [
    "# Retrieve information from Pinecone"
   ]
  },
  {
   "cell_type": "code",
   "execution_count": 24,
   "id": "908a8af6",
   "metadata": {},
   "outputs": [],
   "source": [
    "retriever = docsearch.as_retriever(search_type=\"similarity\", search_kwargs={\"k\":3})"
   ]
  },
  {
   "cell_type": "code",
   "execution_count": 25,
   "id": "c5fa4e3d",
   "metadata": {},
   "outputs": [],
   "source": [
    "retrieved_docs = retriever.invoke(\"What is cancer?\")"
   ]
  },
  {
   "cell_type": "code",
   "execution_count": 26,
   "id": "baf2b3fc",
   "metadata": {},
   "outputs": [
    {
     "data": {
      "text/plain": [
       "[Document(metadata={'creationdate': '2006-10-16T20:19:33+02:00', 'creator': 'Adobe Acrobat 6.0', 'moddate': '2006-10-16T22:03:45+02:00', 'page': 730.0, 'page_label': '701', 'producer': 'PDFlib+PDI 6.0.3 (SunOS)', 'source': 'data/The-Gale-Encyclopedia-of-Medicine-3rd-Edition-staibabussalamsula.ac_.id_.pdf', 'total_pages': 4505.0}, page_content='Cancer\\nDefinition\\nCancer is not just one disease, but a large group of\\nalmost 100 diseases. Its two main characteristics are\\nuncontrolled growth of the cells in the human body\\nand the ability of these cells to migrate from the\\noriginal site and spread to distant sites. If the spread\\nis not controlled, cancer can result indeath.\\nDescription\\nOne out of every four deaths in the United States\\nis from cancer. It is second only to heart disease as a\\ncause of death in the states. About 1.2 million'),\n",
       " Document(metadata={'creationdate': '2006-10-16T20:19:33+02:00', 'creator': 'Adobe Acrobat 6.0', 'moddate': '2006-10-16T22:03:45+02:00', 'page': 671.0, 'page_label': '642', 'producer': 'PDFlib+PDI 6.0.3 (SunOS)', 'source': 'data/The-Gale-Encyclopedia-of-Medicine-3rd-Edition-staibabussalamsula.ac_.id_.pdf', 'total_pages': 4505.0}, page_content='Definition\\nBreast cancer is caused by the development of\\nmalignant cells in the breast. The malignant cells\\noriginate in the lining of the milk glands or ducts of\\nthe breast (ductal epithelium), defining this malig-\\nnancy as a cancer. Cancer cells are characterized by\\nuncontrolled division leading to abnormal growth\\nand the ability of these cells to invade normal tissue\\nlocally or to spread throughout the body, in a process\\ncalled metastasis.\\nDescription'),\n",
       " Document(metadata={'creationdate': '2006-10-16T20:19:33+02:00', 'creator': 'Adobe Acrobat 6.0', 'moddate': '2006-10-16T22:03:45+02:00', 'page': 730.0, 'page_label': '701', 'producer': 'PDFlib+PDI 6.0.3 (SunOS)', 'source': 'data/The-Gale-Encyclopedia-of-Medicine-3rd-Edition-staibabussalamsula.ac_.id_.pdf', 'total_pages': 4505.0}, page_content='cancer of the kidneys, ovaries, uterus, pancreas, blad-\\nder, rectum, and blood and lymph node cancer (leu-\\nkemias and lymphomas) are also included among the\\n12 major cancers that affect most Americans.\\nCancer, by definition, is a disease of the genes.\\nA gene is a small part of DNA, which is the master\\nmolecule of the cell. Genes make ‘‘proteins,’’ which are\\nthe ultimate workhorses of the cells. It is these proteins\\nthat allow our bodies to carry out all the many')]"
      ]
     },
     "execution_count": 26,
     "metadata": {},
     "output_type": "execute_result"
    }
   ],
   "source": [
    "retrieved_docs"
   ]
  },
  {
   "cell_type": "markdown",
   "id": "bc6ba7ac",
   "metadata": {},
   "source": [
    "# LLM response"
   ]
  },
  {
   "cell_type": "code",
   "execution_count": 28,
   "id": "86235174",
   "metadata": {},
   "outputs": [],
   "source": [
    "from langchain_openai import OpenAI\n",
    "from dotenv import load_dotenv\n",
    "import os\n",
    "\n",
    "load_dotenv()\n",
    "OPENAI_API_KEY = os.getenv(\"OPENAI_API_KEY\")\n",
    "\n",
    "llm = OpenAI(model=\"gpt-4o-mini\", temperature=0.3)"
   ]
  },
  {
   "cell_type": "code",
   "execution_count": 6,
   "id": "f3e60871",
   "metadata": {},
   "outputs": [
    {
     "name": "stdout",
     "output_type": "stream",
     "text": [
      "Name: langchain\n",
      "Version: 1.0.0\n",
      "Summary: Building applications with LLMs through composability\n",
      "Home-page: https://docs.langchain.com/\n",
      "Author: \n",
      "Author-email: \n",
      "License: MIT\n",
      "Location: /opt/miniconda3/envs/get-ai-medical-chat-bot/lib/python3.10/site-packages\n",
      "Requires: langchain-core, langgraph, pydantic\n",
      "Required-by: \n"
     ]
    }
   ],
   "source": [
    "!pip show langchain"
   ]
  },
  {
   "cell_type": "code",
   "execution_count": 29,
   "id": "fe13bbb4",
   "metadata": {},
   "outputs": [],
   "source": [
    "from langchain.chains.combine_documents import create_stuff_documents_chain\n",
    "from langchain.chains import create_retrieval_chain\n",
    "from langchain_core.prompts import ChatPromptTemplate"
   ]
  },
  {
   "cell_type": "code",
   "execution_count": 30,
   "id": "b02988f7",
   "metadata": {},
   "outputs": [],
   "source": [
    "prompt_template = \"\"\"\n",
    "    <|begin_of_text|><|start_header_id|>system<|end_header_id|>\n",
    "    You are an assistant for question-answering tasks. Use the following pieces of retrieved context to answer the question. If you don't know the answer, just say that you don't know. Use three sentences maximum and keep the answer concise.\n",
    "    <|eot_id|><|start_header_id|>user<|end_header_id|>\n",
    "    Question: {input}\n",
    "    Context: {context}\n",
    "    Answer: <|eot_id|><|start_header_id|>assistant<|end_header_id|>\n",
    "    \"\"\"\n",
    "prompt = ChatPromptTemplate.from_template(prompt_template)"
   ]
  },
  {
   "cell_type": "code",
   "execution_count": 31,
   "id": "99a09793",
   "metadata": {},
   "outputs": [],
   "source": [
    "question_answer_chain = create_stuff_documents_chain(llm, prompt)\n",
    "rag_chain = create_retrieval_chain(retriever, question_answer_chain)"
   ]
  },
  {
   "cell_type": "code",
   "execution_count": null,
   "id": "a07d53f3",
   "metadata": {},
   "outputs": [
    {
     "name": "stdout",
     "output_type": "stream",
     "text": [
      " Anemia is a condition characterized by a deficiency in the iron-carrying capacity of the blood, leading to a reduced number of red blood cells or hemoglobin. The most common type is iron deficiency anemia, which results in small, pale red blood cells. This condition can be congenital or acquired and affects millions of people worldwide."
     ]
    }
   ],
   "source": [
    "# Streamming response\n",
    "full_response = \"\"\n",
    "for chunk in rag_chain.stream({\"input\": \"What is anemia?\"}):\n",
    "    if \"answer\" in chunk:\n",
    "        print(chunk[\"answer\"], end=\"\", flush=True)\n",
    "        full_response += chunk[\"answer\"]"
   ]
  },
  {
   "cell_type": "code",
   "execution_count": 35,
   "id": "1ca25e7b",
   "metadata": {},
   "outputs": [
    {
     "name": "stdout",
     "output_type": "stream",
     "text": [
      " I don't know.\n"
     ]
    }
   ],
   "source": [
    "response = rag_chain.invoke({\"input\": \"What is abasdfjsaidof?\"})\n",
    "print(response[\"answer\"])"
   ]
  },
  {
   "cell_type": "markdown",
   "id": "2d4b31d5",
   "metadata": {},
   "source": [
    "8. Move all def to helper.py\n",
    "9. Move prompt_template to promt.py\n",
    "10. Move creation of index and store embeddings to store_index.py\n",
    "11. Create chat.html in templates folder and style.css in static\n",
    "12. Create app.py with flask to consume the defs and display in webpage"
   ]
  },
  {
   "cell_type": "markdown",
   "id": "81f8ce25",
   "metadata": {},
   "source": [
    "# HTML part (nodejs, react)\n",
    "1. Install nodejs if not yet. MacOS: ```brew install node``` Verfiy version with ```node -v``` and ```npm -v```\n",
    "2. Create a folder: ```chatbot-reactjs```\n",
    "3. In terminal run: ```npm create vite@latest ./chatbot-reactjs -- --template react``` choose no to experimental rolldown and yes to npm and start now\n",
    "4. Open browser mentioned. ex: http://localhost:5173/\n",
    "5. Delete folder 'assets', and files 'App.css', empty index.css\n",
    "6. Optional install VScode extension: ES7+ React/Redux/React-Native snippets"
   ]
  },
  {
   "cell_type": "markdown",
   "id": "95050dc3",
   "metadata": {},
   "source": [
    "# Chatbot UI creation\n",
    "7. Start creating UI in App.jsx\n",
    "8. Create folder 'components'. Add file ChatbotIcon.jsx, put and SVG icond.\n",
    "9. Create the UI in HTML and CSS with App.jsx and index.css\n",
    "10. Create file in 'components' ChatForm.jsx, and move the forms.\n",
    "11. Create file in 'components' ChatMessage.jsx, and move the user-message.\n",
    "12. Manage bot-user interactions and message history\n",
    "13. Manage generate response from a model via REST API\n",
    "14. Optional enhacements: scroll to bottom, open/close chat, manage errors"
   ]
  },
  {
   "cell_type": "markdown",
   "id": "0ec0e7a8",
   "metadata": {},
   "source": [
    "# Connect React to Python\n",
    "1. From React, use fetch to connect to the python flask rest api\n",
    "2. Python flask rest api receives the message\n",
    "3. Python uses an AI model to process the message \n"
   ]
  },
  {
   "cell_type": "markdown",
   "id": "90f0ad38",
   "metadata": {},
   "source": [
    "# Build chatbot UI\n",
    "1. Run in terminal: ```npm build dev```\n",
    "2. Vite will create a folder named ```dist``` containing the ```index.html```"
   ]
  },
  {
   "cell_type": "markdown",
   "id": "7b1abf43",
   "metadata": {},
   "source": [
    "# Connect Flask to Vite dist folder\n",
    "1. Tell flash to use a folder ```add = Flask (__name__, static_folder='project-folder/dist', static_url_path='')```\n",
    "2. Route root path to index file ```@app.route(\"/\") def index(): return send_from_directory(app.static_folder, 'index.html')```\n"
   ]
  },
  {
   "cell_type": "markdown",
   "id": "c8dd66b9",
   "metadata": {},
   "source": [
    "Connect "
   ]
  }
 ],
 "metadata": {
  "kernelspec": {
   "display_name": "get-ai-medical-chat-bot",
   "language": "python",
   "name": "python3"
  },
  "language_info": {
   "codemirror_mode": {
    "name": "ipython",
    "version": 3
   },
   "file_extension": ".py",
   "mimetype": "text/x-python",
   "name": "python",
   "nbconvert_exporter": "python",
   "pygments_lexer": "ipython3",
   "version": "3.10.19"
  }
 },
 "nbformat": 4,
 "nbformat_minor": 5
}
