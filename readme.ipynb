{
 "cells": [
  {
   "cell_type": "markdown",
   "id": "62c24127-58b8-449e-8687-52bf536747b2",
   "metadata": {},
   "source": [
    "# Setup\n",
    "1. GitHub:\n",
    "Create a github repository: gen-ai-medical-bot\n",
    "Add .gitignore = Python\n",
    "Select MIT license\n",
    "\n",
    "2. Jupyter Lab:\n",
    "Use the terminal and run command:\n",
    "git clone https://github.com/lucho715/gen-ai-medical-chat-bot.git\n",
    "\n",
    "3. Conda (Optional/Recommended): Set up conda environment: conda create -n gen-ai-medical-chat-bot python=3.10 -y. Activate: conda activate gen-ai-medical-chat-bot\n",
    "\n",
    "4. Create requirements.txt and add the dependencies"
   ]
  },
  {
   "cell_type": "code",
   "execution_count": null,
   "id": "1f7510b6-2f22-46e6-9089-db6e0fa24181",
   "metadata": {
    "scrolled": true
   },
   "outputs": [],
   "source": [
    "!pip install -r requirements.txt"
   ]
  },
  {
   "cell_type": "markdown",
   "id": "335b7a1a-9ee2-4027-96f8-b633aba1a463",
   "metadata": {},
   "source": []
  }
 ],
 "metadata": {
  "kernelspec": {
   "display_name": "Python 3 (ipykernel)",
   "language": "python",
   "name": "python3"
  },
  "language_info": {
   "codemirror_mode": {
    "name": "ipython",
    "version": 3
   },
   "file_extension": ".py",
   "mimetype": "text/x-python",
   "name": "python",
   "nbconvert_exporter": "python",
   "pygments_lexer": "ipython3",
   "version": "3.13.5"
  }
 },
 "nbformat": 4,
 "nbformat_minor": 5
}
