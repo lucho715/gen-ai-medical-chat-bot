{
 "cells": [
  {
   "cell_type": "markdown",
   "id": "62c24127-58b8-449e-8687-52bf536747b2",
   "metadata": {},
   "source": [
    "# Setup\n",
    "1. GitHub:\n",
    "Create a github repository: gen-ai-medical-bot\n",
    "Add .gitignore = Python\n",
    "Select MIT license\n",
    "2. From terminal, run command: git clone https://github.com/lucho715/gen-ai-medical-chat-bot.git\n",
    "3. Conda (Optional/Recommended): Set up conda environment: conda create -n gen-ai-medical-chat-bot python=3.10 -y. Activate: conda activate gen-ai-medical-chat-bot\n",
    "4. Create folder structure. From terminal, run python template.py\n",
    "5. Complete setup.py\n",
    "6. Complete requirements.txt. From terminal, run pip install -r requirements.txt"
   ]
  },
  {
   "cell_type": "code",
   "execution_count": 15,
   "id": "1f7510b6-2f22-46e6-9089-db6e0fa24181",
   "metadata": {
    "scrolled": true
   },
   "outputs": [
    {
     "name": "stdout",
     "output_type": "stream",
     "text": [
      "Requirement already satisfied: sentence-transformers in /home/macmini/miniconda3/lib/python3.13/site-packages (from -r requirements.txt (line 1)) (5.1.1)\n",
      "Requirement already satisfied: langchain in /home/macmini/miniconda3/lib/python3.13/site-packages (from -r requirements.txt (line 2)) (0.3.27)\n",
      "Requirement already satisfied: langchain_community in /home/macmini/miniconda3/lib/python3.13/site-packages (from -r requirements.txt (line 3)) (0.3.31)\n",
      "Requirement already satisfied: langchain_openai in /home/macmini/miniconda3/lib/python3.13/site-packages (from -r requirements.txt (line 4)) (0.3.35)\n",
      "Requirement already satisfied: langchain_pinecone in /home/macmini/miniconda3/lib/python3.13/site-packages (from -r requirements.txt (line 5)) (0.2.12)\n",
      "Requirement already satisfied: flask in /home/macmini/miniconda3/lib/python3.13/site-packages (from -r requirements.txt (line 6)) (3.1.2)\n",
      "Requirement already satisfied: pypdf in /home/macmini/miniconda3/lib/python3.13/site-packages (from -r requirements.txt (line 7)) (6.1.1)\n",
      "Requirement already satisfied: python-dotenv in /home/macmini/miniconda3/lib/python3.13/site-packages (from -r requirements.txt (line 8)) (1.1.0)\n",
      "Requirement already satisfied: transformers<5.0.0,>=4.41.0 in /home/macmini/miniconda3/lib/python3.13/site-packages (from sentence-transformers->-r requirements.txt (line 1)) (4.57.1)\n",
      "Requirement already satisfied: tqdm in /home/macmini/miniconda3/lib/python3.13/site-packages (from sentence-transformers->-r requirements.txt (line 1)) (4.67.1)\n",
      "Requirement already satisfied: torch>=1.11.0 in /home/macmini/miniconda3/lib/python3.13/site-packages (from sentence-transformers->-r requirements.txt (line 1)) (2.9.0)\n",
      "Requirement already satisfied: scikit-learn in /home/macmini/miniconda3/lib/python3.13/site-packages (from sentence-transformers->-r requirements.txt (line 1)) (1.7.2)\n",
      "Requirement already satisfied: scipy in /home/macmini/miniconda3/lib/python3.13/site-packages (from sentence-transformers->-r requirements.txt (line 1)) (1.16.2)\n",
      "Requirement already satisfied: huggingface-hub>=0.20.0 in /home/macmini/miniconda3/lib/python3.13/site-packages (from sentence-transformers->-r requirements.txt (line 1)) (0.35.3)\n",
      "Requirement already satisfied: Pillow in /home/macmini/miniconda3/lib/python3.13/site-packages (from sentence-transformers->-r requirements.txt (line 1)) (12.0.0)\n",
      "Requirement already satisfied: typing_extensions>=4.5.0 in /home/macmini/miniconda3/lib/python3.13/site-packages (from sentence-transformers->-r requirements.txt (line 1)) (4.12.2)\n",
      "Requirement already satisfied: filelock in /home/macmini/miniconda3/lib/python3.13/site-packages (from transformers<5.0.0,>=4.41.0->sentence-transformers->-r requirements.txt (line 1)) (3.20.0)\n",
      "Requirement already satisfied: numpy>=1.17 in /home/macmini/miniconda3/lib/python3.13/site-packages (from transformers<5.0.0,>=4.41.0->sentence-transformers->-r requirements.txt (line 1)) (2.3.4)\n",
      "Requirement already satisfied: packaging>=20.0 in /home/macmini/miniconda3/lib/python3.13/site-packages (from transformers<5.0.0,>=4.41.0->sentence-transformers->-r requirements.txt (line 1)) (24.2)\n",
      "Requirement already satisfied: pyyaml>=5.1 in /home/macmini/miniconda3/lib/python3.13/site-packages (from transformers<5.0.0,>=4.41.0->sentence-transformers->-r requirements.txt (line 1)) (6.0.3)\n",
      "Requirement already satisfied: regex!=2019.12.17 in /home/macmini/miniconda3/lib/python3.13/site-packages (from transformers<5.0.0,>=4.41.0->sentence-transformers->-r requirements.txt (line 1)) (2025.9.18)\n",
      "Requirement already satisfied: requests in /home/macmini/miniconda3/lib/python3.13/site-packages (from transformers<5.0.0,>=4.41.0->sentence-transformers->-r requirements.txt (line 1)) (2.32.5)\n",
      "Requirement already satisfied: tokenizers<=0.23.0,>=0.22.0 in /home/macmini/miniconda3/lib/python3.13/site-packages (from transformers<5.0.0,>=4.41.0->sentence-transformers->-r requirements.txt (line 1)) (0.22.1)\n",
      "Requirement already satisfied: safetensors>=0.4.3 in /home/macmini/miniconda3/lib/python3.13/site-packages (from transformers<5.0.0,>=4.41.0->sentence-transformers->-r requirements.txt (line 1)) (0.6.2)\n",
      "Requirement already satisfied: fsspec>=2023.5.0 in /home/macmini/miniconda3/lib/python3.13/site-packages (from huggingface-hub>=0.20.0->sentence-transformers->-r requirements.txt (line 1)) (2025.9.0)\n",
      "Requirement already satisfied: hf-xet<2.0.0,>=1.1.3 in /home/macmini/miniconda3/lib/python3.13/site-packages (from huggingface-hub>=0.20.0->sentence-transformers->-r requirements.txt (line 1)) (1.1.10)\n",
      "Requirement already satisfied: langchain-core<1.0.0,>=0.3.72 in /home/macmini/miniconda3/lib/python3.13/site-packages (from langchain->-r requirements.txt (line 2)) (0.3.79)\n",
      "Requirement already satisfied: langchain-text-splitters<1.0.0,>=0.3.9 in /home/macmini/miniconda3/lib/python3.13/site-packages (from langchain->-r requirements.txt (line 2)) (0.3.11)\n",
      "Requirement already satisfied: langsmith>=0.1.17 in /home/macmini/miniconda3/lib/python3.13/site-packages (from langchain->-r requirements.txt (line 2)) (0.4.37)\n",
      "Requirement already satisfied: pydantic<3.0.0,>=2.7.4 in /home/macmini/miniconda3/lib/python3.13/site-packages (from langchain->-r requirements.txt (line 2)) (2.11.7)\n",
      "Requirement already satisfied: SQLAlchemy<3,>=1.4 in /home/macmini/miniconda3/lib/python3.13/site-packages (from langchain->-r requirements.txt (line 2)) (2.0.44)\n",
      "Requirement already satisfied: tenacity!=8.4.0,<10.0.0,>=8.1.0 in /home/macmini/miniconda3/lib/python3.13/site-packages (from langchain-core<1.0.0,>=0.3.72->langchain->-r requirements.txt (line 2)) (9.1.2)\n",
      "Requirement already satisfied: jsonpatch<2.0.0,>=1.33.0 in /home/macmini/miniconda3/lib/python3.13/site-packages (from langchain-core<1.0.0,>=0.3.72->langchain->-r requirements.txt (line 2)) (1.33)\n",
      "Requirement already satisfied: jsonpointer>=1.9 in /home/macmini/miniconda3/lib/python3.13/site-packages (from jsonpatch<2.0.0,>=1.33.0->langchain-core<1.0.0,>=0.3.72->langchain->-r requirements.txt (line 2)) (3.0.0)\n",
      "Requirement already satisfied: httpx<1,>=0.23.0 in /home/macmini/miniconda3/lib/python3.13/site-packages (from langsmith>=0.1.17->langchain->-r requirements.txt (line 2)) (0.28.1)\n",
      "Requirement already satisfied: orjson>=3.9.14 in /home/macmini/miniconda3/lib/python3.13/site-packages (from langsmith>=0.1.17->langchain->-r requirements.txt (line 2)) (3.11.3)\n",
      "Requirement already satisfied: requests-toolbelt>=1.0.0 in /home/macmini/miniconda3/lib/python3.13/site-packages (from langsmith>=0.1.17->langchain->-r requirements.txt (line 2)) (1.0.0)\n",
      "Requirement already satisfied: zstandard>=0.23.0 in /home/macmini/miniconda3/lib/python3.13/site-packages (from langsmith>=0.1.17->langchain->-r requirements.txt (line 2)) (0.23.0)\n",
      "Requirement already satisfied: anyio in /home/macmini/miniconda3/lib/python3.13/site-packages (from httpx<1,>=0.23.0->langsmith>=0.1.17->langchain->-r requirements.txt (line 2)) (4.11.0)\n",
      "Requirement already satisfied: certifi in /home/macmini/miniconda3/lib/python3.13/site-packages (from httpx<1,>=0.23.0->langsmith>=0.1.17->langchain->-r requirements.txt (line 2)) (2025.10.5)\n",
      "Requirement already satisfied: httpcore==1.* in /home/macmini/miniconda3/lib/python3.13/site-packages (from httpx<1,>=0.23.0->langsmith>=0.1.17->langchain->-r requirements.txt (line 2)) (1.0.9)\n",
      "Requirement already satisfied: idna in /home/macmini/miniconda3/lib/python3.13/site-packages (from httpx<1,>=0.23.0->langsmith>=0.1.17->langchain->-r requirements.txt (line 2)) (3.7)\n",
      "Requirement already satisfied: h11>=0.16 in /home/macmini/miniconda3/lib/python3.13/site-packages (from httpcore==1.*->httpx<1,>=0.23.0->langsmith>=0.1.17->langchain->-r requirements.txt (line 2)) (0.16.0)\n",
      "Requirement already satisfied: annotated-types>=0.6.0 in /home/macmini/miniconda3/lib/python3.13/site-packages (from pydantic<3.0.0,>=2.7.4->langchain->-r requirements.txt (line 2)) (0.6.0)\n",
      "Requirement already satisfied: pydantic-core==2.33.2 in /home/macmini/miniconda3/lib/python3.13/site-packages (from pydantic<3.0.0,>=2.7.4->langchain->-r requirements.txt (line 2)) (2.33.2)\n",
      "Requirement already satisfied: typing-inspection>=0.4.0 in /home/macmini/miniconda3/lib/python3.13/site-packages (from pydantic<3.0.0,>=2.7.4->langchain->-r requirements.txt (line 2)) (0.4.0)\n",
      "Requirement already satisfied: charset_normalizer<4,>=2 in /home/macmini/miniconda3/lib/python3.13/site-packages (from requests->transformers<5.0.0,>=4.41.0->sentence-transformers->-r requirements.txt (line 1)) (3.3.2)\n",
      "Requirement already satisfied: urllib3<3,>=1.21.1 in /home/macmini/miniconda3/lib/python3.13/site-packages (from requests->transformers<5.0.0,>=4.41.0->sentence-transformers->-r requirements.txt (line 1)) (2.5.0)\n",
      "Requirement already satisfied: greenlet>=1 in /home/macmini/miniconda3/lib/python3.13/site-packages (from SQLAlchemy<3,>=1.4->langchain->-r requirements.txt (line 2)) (3.2.4)\n",
      "Requirement already satisfied: aiohttp<4.0.0,>=3.8.3 in /home/macmini/miniconda3/lib/python3.13/site-packages (from langchain_community->-r requirements.txt (line 3)) (3.13.1)\n",
      "Requirement already satisfied: dataclasses-json<0.7.0,>=0.6.7 in /home/macmini/miniconda3/lib/python3.13/site-packages (from langchain_community->-r requirements.txt (line 3)) (0.6.7)\n",
      "Requirement already satisfied: pydantic-settings<3.0.0,>=2.10.1 in /home/macmini/miniconda3/lib/python3.13/site-packages (from langchain_community->-r requirements.txt (line 3)) (2.11.0)\n",
      "Requirement already satisfied: httpx-sse<1.0.0,>=0.4.0 in /home/macmini/miniconda3/lib/python3.13/site-packages (from langchain_community->-r requirements.txt (line 3)) (0.4.3)\n",
      "Requirement already satisfied: aiohappyeyeballs>=2.5.0 in /home/macmini/miniconda3/lib/python3.13/site-packages (from aiohttp<4.0.0,>=3.8.3->langchain_community->-r requirements.txt (line 3)) (2.6.1)\n",
      "Requirement already satisfied: aiosignal>=1.4.0 in /home/macmini/miniconda3/lib/python3.13/site-packages (from aiohttp<4.0.0,>=3.8.3->langchain_community->-r requirements.txt (line 3)) (1.4.0)\n",
      "Requirement already satisfied: attrs>=17.3.0 in /home/macmini/miniconda3/lib/python3.13/site-packages (from aiohttp<4.0.0,>=3.8.3->langchain_community->-r requirements.txt (line 3)) (25.4.0)\n",
      "Requirement already satisfied: frozenlist>=1.1.1 in /home/macmini/miniconda3/lib/python3.13/site-packages (from aiohttp<4.0.0,>=3.8.3->langchain_community->-r requirements.txt (line 3)) (1.8.0)\n",
      "Requirement already satisfied: multidict<7.0,>=4.5 in /home/macmini/miniconda3/lib/python3.13/site-packages (from aiohttp<4.0.0,>=3.8.3->langchain_community->-r requirements.txt (line 3)) (6.7.0)\n",
      "Requirement already satisfied: propcache>=0.2.0 in /home/macmini/miniconda3/lib/python3.13/site-packages (from aiohttp<4.0.0,>=3.8.3->langchain_community->-r requirements.txt (line 3)) (0.4.1)\n",
      "Requirement already satisfied: yarl<2.0,>=1.17.0 in /home/macmini/miniconda3/lib/python3.13/site-packages (from aiohttp<4.0.0,>=3.8.3->langchain_community->-r requirements.txt (line 3)) (1.22.0)\n",
      "Requirement already satisfied: marshmallow<4.0.0,>=3.18.0 in /home/macmini/miniconda3/lib/python3.13/site-packages (from dataclasses-json<0.7.0,>=0.6.7->langchain_community->-r requirements.txt (line 3)) (3.26.1)\n",
      "Requirement already satisfied: typing-inspect<1,>=0.4.0 in /home/macmini/miniconda3/lib/python3.13/site-packages (from dataclasses-json<0.7.0,>=0.6.7->langchain_community->-r requirements.txt (line 3)) (0.9.0)\n",
      "Requirement already satisfied: mypy-extensions>=0.3.0 in /home/macmini/miniconda3/lib/python3.13/site-packages (from typing-inspect<1,>=0.4.0->dataclasses-json<0.7.0,>=0.6.7->langchain_community->-r requirements.txt (line 3)) (1.1.0)\n",
      "Requirement already satisfied: openai<3.0.0,>=1.104.2 in /home/macmini/miniconda3/lib/python3.13/site-packages (from langchain_openai->-r requirements.txt (line 4)) (2.5.0)\n",
      "Requirement already satisfied: tiktoken<1.0.0,>=0.7.0 in /home/macmini/miniconda3/lib/python3.13/site-packages (from langchain_openai->-r requirements.txt (line 4)) (0.12.0)\n",
      "Requirement already satisfied: distro<2,>=1.7.0 in /home/macmini/miniconda3/lib/python3.13/site-packages (from openai<3.0.0,>=1.104.2->langchain_openai->-r requirements.txt (line 4)) (1.9.0)\n",
      "Requirement already satisfied: jiter<1,>=0.10.0 in /home/macmini/miniconda3/lib/python3.13/site-packages (from openai<3.0.0,>=1.104.2->langchain_openai->-r requirements.txt (line 4)) (0.11.1)\n",
      "Requirement already satisfied: sniffio in /home/macmini/miniconda3/lib/python3.13/site-packages (from openai<3.0.0,>=1.104.2->langchain_openai->-r requirements.txt (line 4)) (1.3.1)\n",
      "Requirement already satisfied: pinecone<8.0.0,>=6.0.0 in /home/macmini/miniconda3/lib/python3.13/site-packages (from pinecone[asyncio]<8.0.0,>=6.0.0->langchain_pinecone->-r requirements.txt (line 5)) (7.3.0)\n",
      "Requirement already satisfied: simsimd>=5.9.11 in /home/macmini/miniconda3/lib/python3.13/site-packages (from langchain_pinecone->-r requirements.txt (line 5)) (6.5.3)\n",
      "Requirement already satisfied: pinecone-plugin-assistant<2.0.0,>=1.6.0 in /home/macmini/miniconda3/lib/python3.13/site-packages (from pinecone<8.0.0,>=6.0.0->pinecone[asyncio]<8.0.0,>=6.0.0->langchain_pinecone->-r requirements.txt (line 5)) (1.8.0)\n",
      "Requirement already satisfied: pinecone-plugin-interface<0.0.8,>=0.0.7 in /home/macmini/miniconda3/lib/python3.13/site-packages (from pinecone<8.0.0,>=6.0.0->pinecone[asyncio]<8.0.0,>=6.0.0->langchain_pinecone->-r requirements.txt (line 5)) (0.0.7)\n",
      "Requirement already satisfied: python-dateutil>=2.5.3 in /home/macmini/miniconda3/lib/python3.13/site-packages (from pinecone<8.0.0,>=6.0.0->pinecone[asyncio]<8.0.0,>=6.0.0->langchain_pinecone->-r requirements.txt (line 5)) (2.9.0.post0)\n",
      "Requirement already satisfied: aiohttp-retry<3.0.0,>=2.9.1 in /home/macmini/miniconda3/lib/python3.13/site-packages (from pinecone[asyncio]<8.0.0,>=6.0.0->langchain_pinecone->-r requirements.txt (line 5)) (2.9.1)\n",
      "Requirement already satisfied: blinker>=1.9.0 in /home/macmini/miniconda3/lib/python3.13/site-packages (from flask->-r requirements.txt (line 6)) (1.9.0)\n",
      "Requirement already satisfied: click>=8.1.3 in /home/macmini/miniconda3/lib/python3.13/site-packages (from flask->-r requirements.txt (line 6)) (8.2.1)\n",
      "Requirement already satisfied: itsdangerous>=2.2.0 in /home/macmini/miniconda3/lib/python3.13/site-packages (from flask->-r requirements.txt (line 6)) (2.2.0)\n",
      "Requirement already satisfied: jinja2>=3.1.2 in /home/macmini/miniconda3/lib/python3.13/site-packages (from flask->-r requirements.txt (line 6)) (3.1.6)\n",
      "Requirement already satisfied: markupsafe>=2.1.1 in /home/macmini/miniconda3/lib/python3.13/site-packages (from flask->-r requirements.txt (line 6)) (3.0.3)\n",
      "Requirement already satisfied: werkzeug>=3.1.0 in /home/macmini/miniconda3/lib/python3.13/site-packages (from flask->-r requirements.txt (line 6)) (3.1.3)\n",
      "Requirement already satisfied: six>=1.5 in /home/macmini/miniconda3/lib/python3.13/site-packages (from python-dateutil>=2.5.3->pinecone<8.0.0,>=6.0.0->pinecone[asyncio]<8.0.0,>=6.0.0->langchain_pinecone->-r requirements.txt (line 5)) (1.17.0)\n",
      "Requirement already satisfied: setuptools in /home/macmini/miniconda3/lib/python3.13/site-packages (from torch>=1.11.0->sentence-transformers->-r requirements.txt (line 1)) (78.1.1)\n",
      "Requirement already satisfied: sympy>=1.13.3 in /home/macmini/miniconda3/lib/python3.13/site-packages (from torch>=1.11.0->sentence-transformers->-r requirements.txt (line 1)) (1.14.0)\n",
      "Requirement already satisfied: networkx>=2.5.1 in /home/macmini/miniconda3/lib/python3.13/site-packages (from torch>=1.11.0->sentence-transformers->-r requirements.txt (line 1)) (3.5)\n",
      "Requirement already satisfied: mpmath<1.4,>=1.1.0 in /home/macmini/miniconda3/lib/python3.13/site-packages (from sympy>=1.13.3->torch>=1.11.0->sentence-transformers->-r requirements.txt (line 1)) (1.3.0)\n",
      "Requirement already satisfied: joblib>=1.2.0 in /home/macmini/miniconda3/lib/python3.13/site-packages (from scikit-learn->sentence-transformers->-r requirements.txt (line 1)) (1.5.2)\n",
      "Requirement already satisfied: threadpoolctl>=3.1.0 in /home/macmini/miniconda3/lib/python3.13/site-packages (from scikit-learn->sentence-transformers->-r requirements.txt (line 1)) (3.6.0)\n"
     ]
    }
   ],
   "source": [
    "!pip install -r requirements.txt"
   ]
  },
  {
   "cell_type": "markdown",
   "id": "050f548d",
   "metadata": {},
   "source": []
  },
  {
   "cell_type": "code",
   "execution_count": null,
   "id": "fd398566",
   "metadata": {},
   "outputs": [],
   "source": []
  },
  {
   "cell_type": "markdown",
   "id": "335b7a1a-9ee2-4027-96f8-b633aba1a463",
   "metadata": {},
   "source": []
  }
 ],
 "metadata": {
  "kernelspec": {
   "display_name": "Python 3 (ipykernel)",
   "language": "python",
   "name": "python3"
  },
  "language_info": {
   "codemirror_mode": {
    "name": "ipython",
    "version": 3
   },
   "file_extension": ".py",
   "mimetype": "text/x-python",
   "name": "python",
   "nbconvert_exporter": "python",
   "pygments_lexer": "ipython3",
   "version": "3.13.5"
  }
 },
 "nbformat": 4,
 "nbformat_minor": 5
}
