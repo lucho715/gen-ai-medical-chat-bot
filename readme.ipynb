{
 "cells": [
  {
   "cell_type": "markdown",
   "id": "62c24127-58b8-449e-8687-52bf536747b2",
   "metadata": {},
   "source": [
    "# Setup\n",
    "1. GitHub:\n",
    "Create a github repository: gen-ai-medical-bot\n",
    "Add .gitignore = Python\n",
    "Select MIT license\n",
    "\n",
    "2. Jupyter Lab:\n",
    "Use the terminal and run command:\n",
    "git clone https://github.com/lucho715/gen-ai-medical-chat-bot.git\n",
    "\n",
    "\n"
   ]
  }
 ],
 "metadata": {
  "kernelspec": {
   "display_name": "Python 3 (ipykernel)",
   "language": "python",
   "name": "python3"
  },
  "language_info": {
   "codemirror_mode": {
    "name": "ipython",
    "version": 3
   },
   "file_extension": ".py",
   "mimetype": "text/x-python",
   "name": "python",
   "nbconvert_exporter": "python",
   "pygments_lexer": "ipython3",
   "version": "3.13.5"
  }
 },
 "nbformat": 4,
 "nbformat_minor": 5
}
